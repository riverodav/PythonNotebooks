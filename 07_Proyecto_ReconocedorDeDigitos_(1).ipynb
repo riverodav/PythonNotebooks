{
  "cells": [
    {
      "cell_type": "markdown",
      "metadata": {
        "id": "view-in-github",
        "colab_type": "text"
      },
      "source": [
        "<a href=\"https://colab.research.google.com/github/riverodav/PythonNotebooks/blob/main/07_Proyecto_ReconocedorDeDigitos_(1).ipynb\" target=\"_parent\"><img src=\"https://colab.research.google.com/assets/colab-badge.svg\" alt=\"Open In Colab\"/></a>"
      ]
    },
    {
      "cell_type": "markdown",
      "metadata": {
        "id": "heirTzFsbvzr"
      },
      "source": [
        "![logo.png](attachment:logo.png)\n",
        "\n",
        "#### Módulo 1: Python para la ciencia de datos\n",
        "\n",
        "# Proyecto: reconocedor de dígitos"
      ]
    },
    {
      "cell_type": "code",
      "source": [
        "from google.colab import drive\n",
        "drive.mount('/content/drive')"
      ],
      "metadata": {
        "colab": {
          "base_uri": "https://localhost:8080/"
        },
        "id": "1o3-l4I2VpFB",
        "outputId": "62b7a57e-a1f5-4998-da69-a7c24cd734a2"
      },
      "execution_count": null,
      "outputs": [
        {
          "output_type": "stream",
          "name": "stdout",
          "text": [
            "Mounted at /content/drive\n"
          ]
        }
      ]
    },
    {
      "cell_type": "code",
      "execution_count": null,
      "metadata": {
        "id": "ys8RNnlybvzv"
      },
      "outputs": [],
      "source": [
        "#Importamos las librerías necesarias\n",
        "import numpy as np\n",
        "from skimage import io\n",
        "import os\n",
        "import time\n",
        "%matplotlib inline\n",
        "import matplotlib.pyplot as plt\n",
        "import seaborn as sns"
      ]
    },
    {
      "cell_type": "markdown",
      "metadata": {
        "id": "a-Y0YWaKbvzx"
      },
      "source": [
        "En este proyecto vas a crear un reconocedor de dígitos. Para ello vas a basarte en un conjunto muy grande de imágenes de dígitos manuscritos. Todas estas imágenes tienen un tamaño de 20 x 20 píxeles. A continnuación te muestro un ejemplo con 10 imágenes de cada dígito.\n",
        "![numeros.png](attachment:numeros.png)\n",
        "Para leer cada una de estas imágenes tienes a tu disposición la función leerImagen, que recibe el nombre del archivo que contiene la imagen que quieres leer y devuelve una matriz de numpy. Como las imágenes de dígitos son de 20 x 20 píxeles, la matriz que obtendrás será de 20x20 elementos. Cada uno de estos elementos es un número real entre 0 y 1, que marca todas las tonalidades de gris entre el negro (valor 0.0) y el blanco (valor 1.0).\n",
        "\n",
        "Para mostrar una imagen almacenada en una matriz de numpy, puedes utilizar la función mostrarImagen, que recibe la matriz de numpy como único argumento."
      ]
    },
    {
      "cell_type": "code",
      "execution_count": null,
      "metadata": {
        "id": "v88MRhjGbvzx"
      },
      "outputs": [],
      "source": [
        "#Funciones útiles para leer y mostrar imágenes\n",
        "def leerImagen(nombre):\n",
        "    leida = io.imread(nombre, as_gray=True)\n",
        "    return leida\n",
        "def mostrarImagen(im):\n",
        "    return io.imshow(im)"
      ]
    },
    {
      "cell_type": "markdown",
      "metadata": {
        "id": "jufVlODIbvzy"
      },
      "source": [
        "A la hora de crear el reconocedor tienes disponibles muchas imágenes de dígitos en dos carpetas distintas: *imagenes_train* e *imagenes_test*. En cada una de las carpetas, el nombre de los archivos sigue una estructura similar:\n",
        "* cuatro dígitos que indican el número de archivo dentro de la carpeta\n",
        "* _ como separación\n",
        "* un dígito que toma el valor del dígito representado en la imagen\n",
        "* .png es la extensión de la imagen\n",
        "Las imágenes almacenadas en la carpeta *imagenes_train* son las que vamos a utilizar como conjunto de entrenamiento. En este conjunto, de cada dato conocemos los valores de sus atributos (cada píxel de la imagen es un atributo) y la clase a la que pertenece el dato. En nuestro problema tenemos 10 clases, que corresponden a los 10 dígitos.\n",
        "\n",
        "Vas a comenzar preparando los datos de entrenamiento. Tu objetivo es conseguir una matriz que tenga tantas filas como imágenes haya en la carpeta y tantas columnas como píxeles haya en una imagen. Para ello, debes leer todas las imágenes contenidas en la carpeta *imagenes_train*. Cada imagen es un dato (ejemplo) y debes transformarlo para poder almacenarlo en una fila de la matriz. Además, de cada imagen queremos saber la clase a la que pertenece, por lo que debes extraer del nombre del fichero el dígito que representa y almacenarlo en un vector de numpy. Este vector debe contener números enteros.\n",
        "\n",
        "Por tanto, nuestro conjunto de entrenamiento va a estar formado por una matriz de numpy que guarda todos los atributos de las imágenes (le llamamos *trainData*) y un vector de numpy que almacena las clases de cada imagen (le llamamos *trainClass*)."
      ]
    },
    {
      "cell_type": "code",
      "execution_count": null,
      "metadata": {
        "id": "mjXpRHKJbvzy"
      },
      "outputs": [],
      "source": [
        "#os.chdir(\"C:\\\\Users\\\\alumno\\\\sibanez\\\\07-proyecto_recon\")\n",
        "directorio_root = os.getcwd()\n",
        "entrenamiento = '/content/drive/MyDrive/trabajo (1)/imagenes_train'\n",
        "test = '/content/drive/MyDrive/trabajo (1)/imagenes_test'"
      ]
    },
    {
      "cell_type": "code",
      "execution_count": null,
      "metadata": {
        "id": "UTC6YrRobvzy"
      },
      "outputs": [],
      "source": [
        "#funcion para construir la matriz de datos y el array de las clases\n",
        "#obtenemos los nombres de los archivos de la carpeta\n",
        "#por cada archivo, lo leemos y su matriz resultante la convertimos a array (aplanando la matriz)\n",
        "#devolvemos la matriz creada de tantas filas como archivos en la carpeta y 400 elementos cada fila\n",
        "def construir_matriz(carpeta):\n",
        "    lista_de_archivos=os.listdir(carpeta)\n",
        "    os.chdir(carpeta)\n",
        "    matriz = np.zeros((len(lista_de_archivos),400))\n",
        "    clases = []\n",
        "    i=0\n",
        "    for fichero in lista_de_archivos:\n",
        "        #print (\"fichero: \" + fichero)\n",
        "        imagen = leerImagen(fichero)\n",
        "        array_imagen = imagen.flatten()\n",
        "        matriz[i] = array_imagen\n",
        "\n",
        "        #del nombre del fichero (nnnn_y.jpg) obtenemos la clase, que es la parte que hay entre el '_' y el '.'\n",
        "        nombre = fichero.split(\"_\")\n",
        "        #print (\"nombre: \" + nombre[1])\n",
        "        clase = nombre[1].split(\".\")\n",
        "        #print (\"clase: \" + clase[0])\n",
        "        clases.append(int(clase[0]))\n",
        "        i=i+1\n",
        "\n",
        "\n",
        "    return matriz, clases\n",
        "\n",
        "def matriz_to_array(matriz):\n",
        "    return np.array(matriz)"
      ]
    },
    {
      "cell_type": "code",
      "execution_count": null,
      "metadata": {
        "colab": {
          "base_uri": "https://localhost:8080/"
        },
        "id": "WwT_7ksrbvzz",
        "outputId": "a829cc9d-0a74-4db5-8580-936697742f2f"
      },
      "outputs": [
        {
          "output_type": "stream",
          "name": "stdout",
          "text": [
            "Conjunto de datos de /content/drive/MyDrive/trabajo (1)/imagenes_train creado\n"
          ]
        }
      ],
      "source": [
        "os.chdir(directorio_root)\n",
        "#print (os.getcwd())\n",
        "#Creación del conjunto de entrenamiento\n",
        "print (\"Conjunto de datos de \" + entrenamiento + \" creado\")\n",
        "trainData, trainClass = construir_matriz(entrenamiento)"
      ]
    },
    {
      "cell_type": "markdown",
      "metadata": {
        "id": "HtBkWfWZbvz0"
      },
      "source": [
        "Comprueba que tu conjunto de datos es correcto imprimiendo las dimensiones de trainData (3000x400) y trainClass (3000)."
      ]
    },
    {
      "cell_type": "code",
      "execution_count": null,
      "metadata": {
        "id": "_a1QHWP8bvz0",
        "outputId": "cfc631c5-16dc-4372-8fa3-64378e64a2cd",
        "colab": {
          "base_uri": "https://localhost:8080/"
        }
      },
      "outputs": [
        {
          "output_type": "stream",
          "name": "stdout",
          "text": [
            "2\n",
            "(3000, 400)\n",
            "3000\n"
          ]
        }
      ],
      "source": [
        "print(trainData.ndim)\n",
        "print(trainData.shape)\n",
        "print(len(trainClass))"
      ]
    },
    {
      "cell_type": "markdown",
      "metadata": {
        "id": "m7aS_4Vcbvz1"
      },
      "source": [
        "Además del conjunto de entrenamiento, necesitamos nuevas imágenes de dígitos para que nuestro reconocedor las clasifique y nos diga a qué dígito corresponde cada una de ellas. A este conjunto de datos sobre el que vamos a probar nuestro reconocedor de dígitos le llamamos conjunto de test. En este caso, con conocer el valor de los atributos de cada imagen (ejemplo) es suficiente, ya que nuestro reconocedor nos indicará la clase a la que pertenece.\n",
        "\n",
        "Sin embargo, para poder evaluar cómo de bien lo hace el reconocedor, necesitamos saber los dígitos verdaderos que están almacenados en cada imagen. Por ello, el conjunto de test lo vamos a preparar de forma muy similar al conjunto de entrenamiento, generando una matriz de numpy con todas las imágenes que están contenidas en la carpeta *imagenes_test* (le llamamos *testData*) y un vector de numpy con las clases a las que pertenece cada ejemplo (le llamamos *testClass*)."
      ]
    },
    {
      "cell_type": "code",
      "execution_count": null,
      "metadata": {
        "id": "vq2yWbozbvz1",
        "outputId": "61fb86d9-45de-4628-d25f-21970bf20e1b",
        "colab": {
          "base_uri": "https://localhost:8080/"
        }
      },
      "outputs": [
        {
          "output_type": "stream",
          "name": "stdout",
          "text": [
            "Conjunto de datos de /content/drive/MyDrive/trabajo (1)/imagenes_test creado\n"
          ]
        }
      ],
      "source": [
        "#Creación del conjunto de test\n",
        "print (\"Conjunto de datos de \" + test + \" creado\")\n",
        "testData, testClass = construir_matriz(test)"
      ]
    },
    {
      "cell_type": "markdown",
      "metadata": {
        "id": "0WJgkEOZbvz1"
      },
      "source": [
        "Comprueba que tu conjunto de datos es correcto imprimiendo las dimensiones de testData (2000x400) y testClass (2000)."
      ]
    },
    {
      "cell_type": "code",
      "execution_count": null,
      "metadata": {
        "id": "CIiedkvebvz1",
        "outputId": "e38d7226-05b3-43ee-d45e-479a512c8d37",
        "colab": {
          "base_uri": "https://localhost:8080/"
        }
      },
      "outputs": [
        {
          "output_type": "stream",
          "name": "stdout",
          "text": [
            "2\n",
            "(2000, 400)\n",
            "2000\n"
          ]
        }
      ],
      "source": [
        "print(testData.ndim)\n",
        "print(testData.shape)\n",
        "print(len(testClass))"
      ]
    },
    {
      "cell_type": "code",
      "execution_count": null,
      "metadata": {
        "id": "_w4SEA7Nbvz2",
        "outputId": "bf78b855-b3f3-4f45-aedd-ed9f254fb96c",
        "colab": {
          "base_uri": "https://localhost:8080/",
          "height": 1000
        }
      },
      "outputs": [
        {
          "name": "stdout",
          "output_type": "stream",
          "text": [
            "Intro un numero > 0 para ver una imagen de test\n",
            "2\n",
            "[[0.05098039 0.05098039 0.05098039 0.05098039 0.05098039 0.05098039\n",
            "  0.05098039 0.05098039 0.05098039 0.05098039 0.05098039 0.05098039\n",
            "  0.05098039 0.05098039 0.05098039 0.05098039 0.05098039 0.05098039\n",
            "  0.05098039 0.05098039]\n",
            " [0.05098039 0.05098039 0.05098039 0.05098039 0.05098039 0.05098039\n",
            "  0.05098039 0.05098039 0.05098039 0.05098039 0.04705882 0.03529412\n",
            "  0.04705882 0.05098039 0.05098039 0.05098039 0.05098039 0.05098039\n",
            "  0.05098039 0.05098039]\n",
            " [0.05098039 0.05098039 0.05098039 0.05098039 0.05098039 0.05098039\n",
            "  0.05098039 0.05098039 0.05098039 0.04705882 0.07843137 0.16470588\n",
            "  0.0627451  0.05098039 0.05098039 0.05098039 0.05098039 0.05098039\n",
            "  0.05098039 0.05098039]\n",
            " [0.05098039 0.05098039 0.05098039 0.05098039 0.05098039 0.05098039\n",
            "  0.04705882 0.04705882 0.05098039 0.02352941 0.24705882 0.90588235\n",
            "  0.36470588 0.03137255 0.05098039 0.05098039 0.05098039 0.05098039\n",
            "  0.05098039 0.05098039]\n",
            " [0.05098039 0.05098039 0.05098039 0.05098039 0.05098039 0.05098039\n",
            "  0.07843137 0.0627451  0.05098039 0.02745098 0.21568627 0.89019608\n",
            "  0.78039216 0.03921569 0.05098039 0.05098039 0.05098039 0.05098039\n",
            "  0.05098039 0.05098039]\n",
            " [0.05098039 0.05098039 0.05098039 0.05098039 0.03529412 0.15294118\n",
            "  0.77647059 0.61960784 0.03529412 0.03529412 0.15686275 0.8\n",
            "  0.91764706 0.20392157 0.03529412 0.05098039 0.05098039 0.05098039\n",
            "  0.05098039 0.05098039]\n",
            " [0.05098039 0.05098039 0.05098039 0.05098039 0.02745098 0.20392157\n",
            "  0.88235294 0.85490196 0.02745098 0.04705882 0.04313725 0.63921569\n",
            "  0.9254902  0.21176471 0.03529412 0.05098039 0.05098039 0.05098039\n",
            "  0.05098039 0.05098039]\n",
            " [0.05098039 0.05098039 0.05098039 0.05098039 0.02745098 0.20392157\n",
            "  0.86666667 0.89803922 0.19607843 0.03921569 0.00392157 0.50588235\n",
            "  0.93333333 0.28627451 0.03137255 0.05098039 0.05098039 0.05098039\n",
            "  0.05098039 0.05098039]\n",
            " [0.05098039 0.05098039 0.05098039 0.05098039 0.02745098 0.21176471\n",
            "  0.88627451 0.88235294 0.14117647 0.04313725 0.01960784 0.38823529\n",
            "  0.96862745 0.51372549 0.00784314 0.05098039 0.05098039 0.05098039\n",
            "  0.05098039 0.05098039]\n",
            " [0.05098039 0.05098039 0.05098039 0.05098039 0.01960784 0.29411765\n",
            "  0.99215686 0.70196078 0.01176471 0.03137255 0.         0.38039216\n",
            "  0.99215686 0.57647059 0.         0.05098039 0.05098039 0.05098039\n",
            "  0.05098039 0.05098039]\n",
            " [0.05098039 0.05098039 0.05098039 0.04705882 0.05882353 0.6745098\n",
            "  1.         0.45882353 0.09803922 0.18823529 0.14901961 0.41960784\n",
            "  0.96862745 0.76078431 0.15686275 0.03921569 0.05098039 0.05098039\n",
            "  0.05098039 0.05098039]\n",
            " [0.05098039 0.05098039 0.05098039 0.04705882 0.0745098  0.80784314\n",
            "  0.99607843 0.85490196 0.74509804 0.85490196 0.82745098 0.81568627\n",
            "  0.95294118 0.95294118 0.59607843 0.05490196 0.04705882 0.05098039\n",
            "  0.05098039 0.05098039]\n",
            " [0.05098039 0.05098039 0.05098039 0.05098039 0.04705882 0.21176471\n",
            "  0.48235294 0.75686275 0.8627451  0.84313725 0.77254902 0.83921569\n",
            "  0.95294118 0.92156863 0.4745098  0.04705882 0.05098039 0.05098039\n",
            "  0.05098039 0.05098039]\n",
            " [0.05098039 0.05098039 0.05098039 0.05098039 0.05098039 0.03529412\n",
            "  0.03137255 0.03137255 0.03137255 0.03137255 0.01568627 0.2\n",
            "  0.90980392 0.79215686 0.14117647 0.03529412 0.05098039 0.05098039\n",
            "  0.05098039 0.05098039]\n",
            " [0.05098039 0.05098039 0.05098039 0.05098039 0.05098039 0.05098039\n",
            "  0.05098039 0.05098039 0.05098039 0.05098039 0.03529412 0.21568627\n",
            "  0.91372549 0.76078431 0.1254902  0.03921569 0.05098039 0.05098039\n",
            "  0.05098039 0.05098039]\n",
            " [0.05098039 0.05098039 0.05098039 0.05098039 0.05098039 0.05098039\n",
            "  0.05098039 0.05098039 0.05098039 0.05098039 0.03529412 0.21960784\n",
            "  0.90588235 0.85882353 0.2        0.03137255 0.05098039 0.05098039\n",
            "  0.05098039 0.05098039]\n",
            " [0.05098039 0.05098039 0.05098039 0.05098039 0.05098039 0.05098039\n",
            "  0.05098039 0.05098039 0.05098039 0.05098039 0.04313725 0.14117647\n",
            "  0.89019608 0.88627451 0.20392157 0.02745098 0.05098039 0.05098039\n",
            "  0.05098039 0.05098039]\n",
            " [0.05098039 0.05098039 0.05098039 0.05098039 0.05098039 0.05098039\n",
            "  0.05098039 0.05098039 0.05098039 0.05098039 0.05098039 0.05098039\n",
            "  0.16470588 0.16862745 0.0745098  0.04705882 0.05098039 0.05098039\n",
            "  0.05098039 0.05098039]\n",
            " [0.05098039 0.05098039 0.05098039 0.05098039 0.05098039 0.05098039\n",
            "  0.05098039 0.05098039 0.05098039 0.05098039 0.05098039 0.05098039\n",
            "  0.03529412 0.03529412 0.04705882 0.05098039 0.05098039 0.05098039\n",
            "  0.05098039 0.05098039]\n",
            " [0.05098039 0.05098039 0.05098039 0.05098039 0.05098039 0.05098039\n",
            "  0.05098039 0.05098039 0.05098039 0.05098039 0.05098039 0.05098039\n",
            "  0.05098039 0.05098039 0.05098039 0.05098039 0.05098039 0.05098039\n",
            "  0.05098039 0.05098039]]\n",
            "AxesImage(size=(20, 20))\n",
            "Intro un numero > 0 para ver una imagen de test\n",
            "0\n"
          ]
        },
        {
          "output_type": "display_data",
          "data": {
            "text/plain": [
              "<Figure size 640x480 with 1 Axes>"
            ],
            "image/png": "[encoded data removed]"
          },
          "metadata": {}
        }
      ],
      "source": [
        "#vamos a mostrar las imagenes de test hasta que el usuario pulse un 0, de esta forma comprobamos que hemos preparado bien los datos\n",
        "pulsacion = 1\n",
        "i=1\n",
        "while (pulsacion > 0):\n",
        "    print (\"Intro un numero > 0 para ver una imagen de test\")    #ojo, el valor de pulsacion no es el valor del digito sino el numero de imagen dentro de la carpeta\n",
        "    pulsacion = int(input())\n",
        "    if (pulsacion > 0):\n",
        "        img_2d = np.reshape(testData[pulsacion], (20, 20))\n",
        "        print (img_2d)\n",
        "        img = mostrarImagen(img_2d)\n",
        "        print (img)\n",
        "        i = i + 1\n"
      ]
    },
    {
      "cell_type": "markdown",
      "metadata": {
        "id": "1V6tEsSpbvz2"
      },
      "source": [
        "Una vez que ya tenemos todos los datos preparados, podemos hacer nuestro reconocedor de dígitos. En este proyecto vamos a utilizar un método muy sencillo, que se basa en buscar una imagen lo más parecida posible dentro del conjunto de entrenamiento y utilizar su clase como clase del nuevo dato a clasificar:\n",
        "1. Para saber el dígito que representa una imagen del conjunto de test necesitamos sus atributos y los atributos y las clases de todo el conjunto de entrenamimento\n",
        "2. Medimos la distancia entre dicha imagen de test y cada una de las 3000 imágenes de entrenamiento. Con esto obtenemos un valor numérico que nos dice lo distantes que son dichas imágenes\n",
        "3. Buscamos el valor de distancia más pequeño. Clasificaremos la imagen de test con el dígito asociado a la imagen de entrenamiento de menor distancia. Es decir, si resulta que la imagen más cercana a la imagen de test es la imagen 1547 (que representa al dígito 5), entonces clasificaremos la imagen de test como dígito 5.\n",
        "\n",
        "Lo último que nos queda por saber es cómo podemos medir la distancia entre dos imágenes. Como al preparar los conjuntos de entrenamiento y de test hemos transformado cada imagen en un vector de 400 dimensiones, la distancia entre dos imágenes $x,y\\in \\mathbb{R}^{400}$ puede venir dada por\n",
        "\n",
        "$$d(x,y) = \\sum_{i=1}^{400}(x_i-y_i)^2$$\n",
        "\n",
        "Crea una función llamada clasificarUnaImagen que recibe la matriz de datos de entrenamiento, el vector con las clases de los ejemplos de entrenamiento y un dato de test, y devuelve la clase a la que pertenece la imagen de test."
      ]
    },
    {
      "cell_type": "code",
      "execution_count": null,
      "metadata": {
        "id": "iSJn0ddObvz2"
      },
      "outputs": [],
      "source": [
        " def clasificarUnaImagen(vectorImagenClasificar, matrizDatosEntrenamiento, vectorClasesEntrenamiento):\n",
        "    #vectorImagenClasificar--> 400\n",
        "    #matrizDatosEntrenamiento--> 3000x400\n",
        "    #vectorClasesEntrenamiento--> 3000\n",
        "    diferencias_pixel_a_pixel = (matrizDatosEntrenamiento-vectorImagenClasificar)**2\n",
        "    diferencias_por_fila=np.sum(diferencias_pixel_a_pixel,axis=1)\n",
        "    fila_mas_parecida=np.argmin(diferencias_por_fila)\n",
        "    clase=vectorClasesEntrenamiento[fila_mas_parecida]\n",
        "    return clase\n"
      ]
    },
    {
      "cell_type": "markdown",
      "metadata": {
        "id": "xJAlLPvUbvz2"
      },
      "source": [
        "Una vez que ya podemos determiniar el número de una imagen, vas a crear una nueva función que clasifique todas las imágenes del conjunto de test. Para ello crea una nueva función llamada *clasificarMuchasImagenes* que recibe la matriz de datos de entrenamiento, el vector con las clases de los ejemplos de entrenamiento y la matriz de datos de test, y devuelve un vector con las clases a las que pertenecen todas las imágenes de test."
      ]
    },
    {
      "cell_type": "code",
      "execution_count": null,
      "metadata": {
        "id": "GBbaKhf_bvz2"
      },
      "outputs": [],
      "source": [
        "def clasificarMuchasImagenes(matrizDatosEntrenamiento, vectorClasesEntrenamiento, testData):\n",
        "    # matrizDatosEntrenamiento --> 3000x400\n",
        "    # vectorClasesEntrenamiento --> 3000\n",
        "    # testData --> 2000x400\n",
        "    clasificacion = []\n",
        "    for imagenTest in testData:\n",
        "        cls = clasificarUnaImagen(imagenTest, matrizDatosEntrenamiento, vectorClasesEntrenamiento)\n",
        "        clasificacion.append(cls)\n",
        "    return clasificacion\n"
      ]
    },
    {
      "cell_type": "markdown",
      "metadata": {
        "id": "Te8bzy5vbvz3"
      },
      "source": [
        "Ahora ya puedes aplicar la función que clasifica todas las imágenes de test sobre tu conjunto de test.\n",
        "\n",
        "En este paso, mide el tiempo que tarda en ejecutarse la clasificación sobre todas las imágenes. Para ello, puedes usar la función time() de la librería time, que indica el tiempo actual en segundos.\n",
        "\n",
        "*import time*\n",
        "\n",
        "*tic=time.time()*\n",
        "\n",
        "*código*\n",
        "\n",
        "*toc=time.time()*\n",
        "\n",
        "*tiempo=toc-tic*"
      ]
    },
    {
      "cell_type": "code",
      "execution_count": null,
      "metadata": {
        "id": "fth8LMRjbvz3"
      },
      "outputs": [],
      "source": [
        "import time\n",
        "tic=time.time()\n",
        "\n",
        "clasificacion = clasificarMuchasImagenes(trainData, trainClass, testData)\n",
        "\n",
        "toc=time.time()\n",
        "tiempo=toc-tic\n",
        "\n",
        "#print(clasificacion)"
      ]
    },
    {
      "cell_type": "markdown",
      "metadata": {
        "id": "016Lv2mLbvz3"
      },
      "source": [
        "Una vez que ya has clasificado todos las imágenes del conjunto de test, vas a analizar los resultados obtenidos. En primer lugar, calcula y muestra el porcentaje de imágenes en las que el dígito predicho por el clasificador coincide con el número que realmente representa la imagen.\n",
        "\n",
        "Nota: recuerda que al principio del proyecto has generado el vector testClass."
      ]
    },
    {
      "cell_type": "code",
      "execution_count": null,
      "metadata": {
        "id": "UzfWjpN5bvz3",
        "colab": {
          "base_uri": "https://localhost:8080/"
        },
        "outputId": "d923ece9-0c59-4ee0-c1ae-db8b9299b56f"
      },
      "outputs": [
        {
          "output_type": "stream",
          "name": "stdout",
          "text": [
            "Porcentaje de coincidencia: 94.20%\n"
          ]
        }
      ],
      "source": [
        "def calcularPorcentajeCoincidencia(clasificacion, testClass):\n",
        "    coincidencias = sum(np.array(clasificacion) == np.array(testClass))\n",
        "    porcentaje_coincidencia = (coincidencias / len(testClass)) * 100\n",
        "    return porcentaje_coincidencia\n",
        "\n",
        "porcentaje_coincidencia = calcularPorcentajeCoincidencia(clasificacion, testClass)\n",
        "print(f\"Porcentaje de coincidencia: {porcentaje_coincidencia:.2f}%\")\n"
      ]
    },
    {
      "cell_type": "markdown",
      "metadata": {
        "id": "HjQKRs_pbvz3"
      },
      "source": [
        "Para completar la información del porcentaje de aciertos, calcula el número de imágenes de cada dígito que no has clasificado correctamente. Esto te dará una visión de los números que son más difíciles de clasificar"
      ]
    },
    {
      "cell_type": "code",
      "execution_count": null,
      "metadata": {
        "id": "ELkgNdV1bvz4",
        "colab": {
          "base_uri": "https://localhost:8080/"
        },
        "outputId": "fbc6f43f-b01b-48be-a66f-e9347d447cc4"
      },
      "outputs": [
        {
          "output_type": "stream",
          "name": "stdout",
          "text": [
            "Número 0: 3 imágenes clasificadas incorrectamente\n",
            "Número 1: 2 imágenes clasificadas incorrectamente\n",
            "Número 2: 16 imágenes clasificadas incorrectamente\n",
            "Número 3: 15 imágenes clasificadas incorrectamente\n",
            "Número 4: 15 imágenes clasificadas incorrectamente\n",
            "Número 5: 18 imágenes clasificadas incorrectamente\n",
            "Número 6: 6 imágenes clasificadas incorrectamente\n",
            "Número 7: 4 imágenes clasificadas incorrectamente\n",
            "Número 8: 23 imágenes clasificadas incorrectamente\n",
            "Número 9: 14 imágenes clasificadas incorrectamente\n"
          ]
        }
      ],
      "source": [
        "def calcularErroresPorDigito(clasificacion, testClass):\n",
        "    errores_por_digito = {digit: 0 for digit in set(testClass)}\n",
        "    for pred, real in zip(clasificacion, testClass):\n",
        "        if pred != real:\n",
        "            errores_por_digito[real] += 1\n",
        "    return errores_por_digito\n",
        "\n",
        "errores_por_digito = calcularErroresPorDigito(clasificacion, testClass)\n",
        "\n",
        "for digit, errores in errores_por_digito.items():\n",
        "    print(f\"Número {digit}: {errores} imágenes clasificadas incorrectamente\")\n"
      ]
    },
    {
      "cell_type": "markdown",
      "metadata": {
        "id": "5nkqALfjbvz4"
      },
      "source": [
        "### Reducción de tiempo\n",
        "\n",
        "A pesar de la sencillez de este clasificador, podemos considerar que funciona relativamente bien. Sin embargo, su eficiencia en tiempo no es muy alta.\n",
        "\n",
        "Una forma de acelerar el proceso de clasificación consiste en reducir el número de atributos de cada dato. En nuestro caso, podemos hacerlo reduciendo el número de píxeles que vamos a considerar de cada imagen. Repite el proceso de clasificación utilizando imágenes con un cuarto de los píxeles originales y con la decimosexta parte. ¿Cambian los porcentajes de acierto en la clasificación?\n",
        "\n",
        "Nota: para hacer transformar las imágenes a un cuarto de su tamaño original, puedes quedarte con una fila de cada dos y una columna de cada dos. Para reducirlas a una decimosexta parte, puedes quedarte con una fila de cada cuatro y una columna de cada cuatro."
      ]
    },
    {
      "cell_type": "code",
      "execution_count": null,
      "metadata": {
        "id": "5IpxVLFybvz4",
        "colab": {
          "base_uri": "https://localhost:8080/"
        },
        "outputId": "7ee1bf8b-7412-413d-dad5-3e6ec5e9b85f"
      },
      "outputs": [
        {
          "output_type": "stream",
          "name": "stdout",
          "text": [
            "Porcentaje de coincidencia (un cuarto del tamaño original): 93.55%\n"
          ]
        }
      ],
      "source": [
        "# IMAGENES A UN CUARTO DEL ORIGINAL\n",
        "trainData_quarter = trainData.reshape(trainData.shape[0], -1)[:, ::2]\n",
        "testData_quarter = testData.reshape(testData.shape[0], -1)[:, ::2]\n",
        "\n",
        "# Clasificación con imágenes redimensionadas\n",
        "clasificacion_quarter = clasificarMuchasImagenes(trainData_quarter, trainClass, testData_quarter)\n",
        "\n",
        "# Calcular porcentaje de coincidencia\n",
        "porcentaje_coincidencia_quarter = calcularPorcentajeCoincidencia(clasificacion_quarter, testClass)\n",
        "print(f\"Porcentaje de coincidencia (un cuarto del tamaño original): {porcentaje_coincidencia_quarter:.2f}%\")"
      ]
    },
    {
      "cell_type": "code",
      "execution_count": null,
      "metadata": {
        "id": "sBBsLMcEbvz4",
        "colab": {
          "base_uri": "https://localhost:8080/"
        },
        "outputId": "190e3eb9-536a-4bb3-ec10-c2dd917c5797"
      },
      "outputs": [
        {
          "output_type": "stream",
          "name": "stdout",
          "text": [
            "Porcentaje de coincidencia (un dieciseisavo del tamaño original): 84.85%\n"
          ]
        }
      ],
      "source": [
        "# IMAGENES A UN DIECISEISAVO DEL ORIGINAL\n",
        "trainData_sixteenth  = trainData.reshape(trainData.shape[0], -1)[:, ::4]\n",
        "testData_sixteenth  = testData.reshape(testData.shape[0], -1)[:, ::4]\n",
        "\n",
        "# Clasificación con imágenes redimensionadas\n",
        "clasificacion_sixteenth  = clasificarMuchasImagenes(trainData_sixteenth, trainClass, testData_sixteenth)\n",
        "\n",
        "# Calcular porcentaje de coincidencia\n",
        "porcentaje_coincidencia_sixteenth  = calcularPorcentajeCoincidencia(clasificacion_sixteenth , testClass)\n",
        "print(f\"Porcentaje de coincidencia (un dieciseisavo del tamaño original): {porcentaje_coincidencia_sixteenth :.2f}%\")"
      ]
    },
    {
      "cell_type": "markdown",
      "metadata": {
        "id": "z9K8qcX-bvz4"
      },
      "source": [
        "Para cada una de las tres clasificaciones que hemos hecho (datos originales, una cuarta parte de la información y una decimosexta parte de la información) hemos obtenido el porcentaje de aciertos y el número de veces que hemos fallado en la clasificación de cada dígito.\n",
        "\n",
        "Vamos a centrarnos en esta segunda parte, y vas a mostrar en tres subgráficas distintas (una para cada clasificación) el número de ejemplos de cada dígito que has clasificado erróneamente. Sin embargo, el número de ejemplos de cada dígito en el conjunto de test no es constante, por lo que no es lo mismo fallar 2 ejemplos de un dígito que tenía 10 ejemplos que fallar dos ejemplos de un dígito que tenía 100 ejemplos. Completa la gráfica colocando otras tres subgráficas que muestren el porcentaje de fallos por cada dígito en cada una de las tres clasificaciones."
      ]
    },
    {
      "cell_type": "code",
      "execution_count": null,
      "metadata": {
        "id": "ewkaeTHrbvz5",
        "colab": {
          "base_uri": "https://localhost:8080/",
          "height": 1000
        },
        "outputId": "ed50f66b-50fb-48e7-a807-33f5b8d0d8e2"
      },
      "outputs": [
        {
          "output_type": "error",
          "ename": "AttributeError",
          "evalue": "ignored",
          "traceback": [
            "\u001b[0;31m---------------------------------------------------------------------------\u001b[0m",
            "\u001b[0;31mAttributeError\u001b[0m                            Traceback (most recent call last)",
            "\u001b[0;32m<ipython-input-35-4f8ef216d507>\u001b[0m in \u001b[0;36m<cell line: 9>\u001b[0;34m()\u001b[0m\n\u001b[1;32m      7\u001b[0m \u001b[0;34m\u001b[0m\u001b[0m\n\u001b[1;32m      8\u001b[0m \u001b[0mplt\u001b[0m\u001b[0;34m.\u001b[0m\u001b[0msubplot\u001b[0m\u001b[0;34m(\u001b[0m\u001b[0;36m2\u001b[0m\u001b[0;34m,\u001b[0m \u001b[0;36m3\u001b[0m\u001b[0;34m,\u001b[0m \u001b[0;36m4\u001b[0m\u001b[0;34m)\u001b[0m\u001b[0;34m\u001b[0m\u001b[0;34m\u001b[0m\u001b[0m\n\u001b[0;32m----> 9\u001b[0;31m \u001b[0mplt\u001b[0m\u001b[0;34m.\u001b[0m\u001b[0mbar\u001b[0m\u001b[0;34m(\u001b[0m\u001b[0mporcentaje_coincidencia_quarter\u001b[0m\u001b[0;34m.\u001b[0m\u001b[0mkeys\u001b[0m\u001b[0;34m(\u001b[0m\u001b[0;34m)\u001b[0m\u001b[0;34m,\u001b[0m \u001b[0mporcentaje_coincidencia_quarter\u001b[0m\u001b[0;34m.\u001b[0m\u001b[0mvalues\u001b[0m\u001b[0;34m(\u001b[0m\u001b[0;34m)\u001b[0m\u001b[0;34m)\u001b[0m\u001b[0;34m\u001b[0m\u001b[0;34m\u001b[0m\u001b[0m\n\u001b[0m\u001b[1;32m     10\u001b[0m \u001b[0mplt\u001b[0m\u001b[0;34m.\u001b[0m\u001b[0mtitle\u001b[0m\u001b[0;34m(\u001b[0m\u001b[0;34m'Errores (Un cuarto del tamaño original)'\u001b[0m\u001b[0;34m)\u001b[0m\u001b[0;34m\u001b[0m\u001b[0;34m\u001b[0m\u001b[0m\n\u001b[1;32m     11\u001b[0m \u001b[0;34m\u001b[0m\u001b[0m\n",
            "\u001b[0;31mAttributeError\u001b[0m: 'numpy.float64' object has no attribute 'keys'"
          ]
        },
        {
          "output_type": "display_data",
          "data": {
            "text/plain": [
              "<Figure size 1500x1000 with 2 Axes>"
            ],
            "image/png": "[encoded data removed]"
          },
          "metadata": {}
        }
      ],
      "source": [
        "plt.figure(figsize=(15, 10))\n",
        "\n",
        "# Subplot para los errores por dígito\n",
        "plt.subplot(2, 3, 1)\n",
        "plt.bar(errores_por_digito.keys(), errores_por_digito.values())\n",
        "plt.title('Errores (Clasificación Original)')\n",
        "\n",
        "plt.subplot(2, 3, 4)\n",
        "plt.bar(porcentaje_coincidencia_quarter.keys(), porcentaje_coincidencia_quarter.values())\n",
        "plt.title('Errores (Un cuarto del tamaño original)')\n",
        "\n",
        "plt.subplot(2, 3, 6)\n",
        "plt.bar(porcentaje_coincidencia_sixteenth.keys(), porcentaje_coincidencia_sixteenth.values())\n",
        "plt.title('Errores (Una decimosexta parte del tamaño original)')\n",
        "\n",
        "plt.tight_layout()\n",
        "\n",
        "plt.show()"
      ]
    },
    {
      "cell_type": "markdown",
      "metadata": {
        "id": "KpYEUkdLbvz5"
      },
      "source": [
        "\n",
        "Hasta ahora, hemos estudiado la precisión del clasificador mediante el porcentaje de aciertos. Sin embargo, resulta muy interesante saber qué digitos estamos confundiendo con qué otros dígitos. Para ello, debes mostrar la matriz de confusión de las tres clasificaciones que has hecho: datos originales, datos reducidos a una cuarta parte, datos reducidos a una decimosexta parte."
      ]
    },
    {
      "cell_type": "code",
      "execution_count": null,
      "metadata": {
        "id": "BETuHJinbvz5"
      },
      "outputs": [],
      "source": [
        "from sklearn.metrics import confusion_matrix\n",
        "\n"
      ]
    },
    {
      "cell_type": "markdown",
      "metadata": {
        "id": "aULk7E16bvz6"
      },
      "source": [
        "Ya hemos comentado que el tiempo de ejecución de esta clasificación puede ser un problema cuando tenemos en cuenta todos los píxeles de cada una de las imágenes. Sin embargo, también hemos visto que el porcentaje de acierto disminuye conforme reducimos el número de píxeles a estudiar. En concreto, hemos comparado las clasificaciones con el total de píxeles de una imagen, un cuarto y una decimosexta parte.\n",
        "\n",
        "Calcula los porcentajes de acierto y el tiempo de ejecución de todas las clasificaciones existentes seleccionando:\n",
        "* todas las filas y columnas existentes\n",
        "* una de cada dos filas y una de cada dos columnas\n",
        "* una de cada tres filas y una de cada tres columnas\n",
        "* una de cada cuatro filas y una de cada cuatro columnas\n",
        "* ...\n",
        "* una de cada diez filas y una de cada diez columnas\n",
        "\n",
        "Muestra en una gráfica cómo disminuye la precisión de la clasificación (porcentaje de acierto) conforme disminuye el tiempo de ejecución (para cada tamaño de imagen pinta tanto el porcentaje de acierto como el tiempo necesario).\n",
        "\n",
        "Nota: este proceso puede llevar más tiempo del habitual. Para intentar mejorarlo un poco, procura que tu método de clasificación sea lo más eficiente posible, con el menor número de bucles (la función clasificarUnaImagen se puede hacer sin bucles)."
      ]
    },
    {
      "cell_type": "code",
      "execution_count": null,
      "metadata": {
        "id": "TQ3-5oT0bvz6"
      },
      "outputs": [],
      "source": []
    },
    {
      "cell_type": "markdown",
      "metadata": {
        "id": "J5jkLHFwbvz6"
      },
      "source": [
        "Por último, vamos a analizar qué ocurre si tratamos de reducir las dimensiones del problema (número de características que representa a cada imagen) utilizando PCA en lugar de seleccionar algunas características originales.\n",
        "\n",
        "Para ello, vamos a probar a clasificar nuestros dígitos seleccionando un número variable de las características más relevantes según PCA. En cada una de las clasificaciones queremos obtener el porcentaje de acierto. Ten en cuenta el tiempo de ejecucuón a la hora de decidir cuántas clasificaciones vas a ejecutar. La gráfica debe mostrar el dominio completo, entre 1 y 400 características.\n",
        "\n",
        "Muestra en una gráfica cómo varía el porcentaje de acierto de los datos de test según reducimos el número de características de cada ejemplo."
      ]
    },
    {
      "cell_type": "code",
      "execution_count": null,
      "metadata": {
        "id": "qbc1VuVbbvz6"
      },
      "outputs": [],
      "source": [
        "from sklearn import decomposition\n",
        "\n"
      ]
    },
    {
      "cell_type": "markdown",
      "metadata": {
        "id": "XYbQ13c-bvz6"
      },
      "source": [
        "Finalizamos el ejercicio mostrando en otra gráfica la diferencia del porcentaje de ejemplos bien clasificados cuando reducimos las características de cada ejemplo seleccionando algunas de ellas equidistantes frente a seleccionarlas sobre PCA. Se debe mostrar, para cada tamaño de características seleccionadas, el porcentaje de ejemplos bien clasificados si las características son píxeles equidistantes y si las características han sido seleccionadas como las más representativas del PCA."
      ]
    },
    {
      "cell_type": "code",
      "execution_count": null,
      "metadata": {
        "id": "AduJfvT1bvz6"
      },
      "outputs": [],
      "source": []
    },
    {
      "cell_type": "code",
      "execution_count": null,
      "metadata": {
        "id": "86I1HPQ9bvz6"
      },
      "outputs": [],
      "source": []
    }
  ],
  "metadata": {
    "kernelspec": {
      "display_name": "Python [conda env:py38ml] *",
      "language": "python",
      "name": "conda-env-py38ml-py"
    },
    "language_info": {
      "codemirror_mode": {
        "name": "ipython",
        "version": 3
      },
      "file_extension": ".py",
      "mimetype": "text/x-python",
      "name": "python",
      "nbconvert_exporter": "python",
      "pygments_lexer": "ipython3",
      "version": "3.8.10"
    },
    "colab": {
      "provenance": [],
      "include_colab_link": true
    }
  },
  "nbformat": 4,
  "nbformat_minor": 0
}